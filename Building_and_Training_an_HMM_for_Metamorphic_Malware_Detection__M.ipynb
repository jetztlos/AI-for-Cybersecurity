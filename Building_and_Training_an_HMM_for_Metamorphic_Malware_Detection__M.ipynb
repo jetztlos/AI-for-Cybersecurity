{
  "cells": [
    {
      "cell_type": "markdown",
      "id": "4131ba2a",
      "metadata": {
        "id": "4131ba2a"
      },
      "source": [
        "<p align=\"center\">\n",
        "    <img src=\"JHU.png\" width=\"200\" alt=\"Johns Hopkins University logo\">\n",
        "</p>"
      ]
    },
    {
      "cell_type": "markdown",
      "id": "51c3183e",
      "metadata": {
        "id": "51c3183e"
      },
      "source": [
        "## Hands-On Lab: Building and Training an HMM for Metamorphic Malware Detection\n",
        "\n",
        "Estimated time needed: **60** minutes\n",
        "\n",
        "### Overview:\n",
        "\n",
        "In this lab, we will build a tool using Hidden Markov Model (HMM) to detect metamorphic malware. The tool will analyze opcode sequences and classify them as either malware or legitimate software."
      ]
    },
    {
      "cell_type": "markdown",
      "id": "467a7d59",
      "metadata": {
        "id": "467a7d59"
      },
      "source": [
        "### Learning Objectives:\n",
        "1. Learn to preprocess opcode sequences for machine learning.\n",
        "2. Train a Hidden Markov Model using `hmmlearn`.\n",
        "3. Handle errors and edge cases in model training.\n",
        "4. Classify new opcode sequences using the trained model.\n"
      ]
    },
    {
      "cell_type": "markdown",
      "id": "386feac0",
      "metadata": {
        "id": "386feac0"
      },
      "source": [
        "### Implementation:"
      ]
    },
    {
      "cell_type": "markdown",
      "id": "6192167e",
      "metadata": {
        "id": "6192167e"
      },
      "source": [
        "### Step 1. Installing Required Libraries\n",
        "\n",
        " Install the necessary library `hmmlearn` for Hidden Markov Models."
      ]
    },
    {
      "cell_type": "code",
      "execution_count": 1,
      "id": "405a4d45",
      "metadata": {
        "colab": {
          "base_uri": "https://localhost:8080/"
        },
        "id": "405a4d45",
        "outputId": "a0523cc0-1bbf-42f0-f990-4cbdc5d90f7c"
      },
      "outputs": [
        {
          "output_type": "stream",
          "name": "stdout",
          "text": [
            "Collecting hmmlearn\n",
            "  Downloading hmmlearn-0.3.3-cp310-cp310-manylinux_2_17_x86_64.manylinux2014_x86_64.whl.metadata (3.0 kB)\n",
            "Requirement already satisfied: numpy>=1.10 in /usr/local/lib/python3.10/dist-packages (from hmmlearn) (1.26.4)\n",
            "Requirement already satisfied: scikit-learn!=0.22.0,>=0.16 in /usr/local/lib/python3.10/dist-packages (from hmmlearn) (1.5.2)\n",
            "Requirement already satisfied: scipy>=0.19 in /usr/local/lib/python3.10/dist-packages (from hmmlearn) (1.13.1)\n",
            "Requirement already satisfied: joblib>=1.2.0 in /usr/local/lib/python3.10/dist-packages (from scikit-learn!=0.22.0,>=0.16->hmmlearn) (1.4.2)\n",
            "Requirement already satisfied: threadpoolctl>=3.1.0 in /usr/local/lib/python3.10/dist-packages (from scikit-learn!=0.22.0,>=0.16->hmmlearn) (3.5.0)\n",
            "Downloading hmmlearn-0.3.3-cp310-cp310-manylinux_2_17_x86_64.manylinux2014_x86_64.whl (164 kB)\n",
            "\u001b[2K   \u001b[90m━━━━━━━━━━━━━━━━━━━━━━━━━━━━━━━━━━━━━━━━\u001b[0m \u001b[32m164.6/164.6 kB\u001b[0m \u001b[31m2.9 MB/s\u001b[0m eta \u001b[36m0:00:00\u001b[0m\n",
            "\u001b[?25hInstalling collected packages: hmmlearn\n",
            "Successfully installed hmmlearn-0.3.3\n"
          ]
        }
      ],
      "source": [
        "!pip install hmmlearn"
      ]
    },
    {
      "cell_type": "markdown",
      "id": "7ddaf4f6",
      "metadata": {
        "id": "7ddaf4f6"
      },
      "source": [
        "### step 2. Importing Required Libraries\n",
        "   Import libraries for data handling, preprocessing, and building the HMM model."
      ]
    },
    {
      "cell_type": "code",
      "execution_count": 2,
      "id": "f72b2af1",
      "metadata": {
        "colab": {
          "base_uri": "https://localhost:8080/"
        },
        "id": "f72b2af1",
        "outputId": "e58d5299-cced-435e-834b-2ecff85a061e"
      },
      "outputs": [
        {
          "output_type": "stream",
          "name": "stdout",
          "text": [
            "Requirement already satisfied: pandas in /usr/local/lib/python3.10/dist-packages (2.2.2)\n",
            "Requirement already satisfied: numpy>=1.22.4 in /usr/local/lib/python3.10/dist-packages (from pandas) (1.26.4)\n",
            "Requirement already satisfied: python-dateutil>=2.8.2 in /usr/local/lib/python3.10/dist-packages (from pandas) (2.8.2)\n",
            "Requirement already satisfied: pytz>=2020.1 in /usr/local/lib/python3.10/dist-packages (from pandas) (2024.2)\n",
            "Requirement already satisfied: tzdata>=2022.7 in /usr/local/lib/python3.10/dist-packages (from pandas) (2024.2)\n",
            "Requirement already satisfied: six>=1.5 in /usr/local/lib/python3.10/dist-packages (from python-dateutil>=2.8.2->pandas) (1.16.0)\n"
          ]
        }
      ],
      "source": [
        "!pip install pandas\n",
        "import numpy as np\n",
        "import pandas as pd\n",
        "from sklearn.preprocessing import LabelEncoder\n",
        "from hmmlearn import hmm\n",
        "import joblib"
      ]
    },
    {
      "cell_type": "markdown",
      "id": "c0a2f1fd",
      "metadata": {
        "id": "c0a2f1fd"
      },
      "source": [
        "### Step 3. Loading and Inspecting the Data\n",
        "   Load the opcode sequences from CSV files. Check the columns to ensure the structure is correct."
      ]
    },
    {
      "cell_type": "code",
      "execution_count": 4,
      "id": "feccdd3c",
      "metadata": {
        "colab": {
          "base_uri": "https://localhost:8080/"
        },
        "id": "feccdd3c",
        "outputId": "aea26d4c-bd39-471d-ae82-bbf9bd21b5bf"
      },
      "outputs": [
        {
          "output_type": "stream",
          "name": "stdout",
          "text": [
            "Columns in data1: Index(['Opcode', 'Operand', 'Comment'], dtype='object')\n",
            "Columns in data2: Index(['Opcode', 'Operand', 'Comment'], dtype='object')\n",
            "Columns in data3: Index(['Opcode', 'Operand', 'Comment'], dtype='object')\n"
          ]
        }
      ],
      "source": [
        "# Load datasets\n",
        "data1 = pd.read_csv('IDAN1.csv')\n",
        "data2 = pd.read_csv('IDAN2.csv')\n",
        "data3 = pd.read_csv('IDAN3.csv')\n",
        "\n",
        "# Check columns in each dataset\n",
        "# Write your code here!\n",
        "print(\"Columns in data1:\", data1.columns)\n",
        "print(\"Columns in data2:\", data2.columns)\n",
        "print(\"Columns in data3:\", data3.columns)"
      ]
    },
    {
      "cell_type": "markdown",
      "id": "5368b176",
      "metadata": {
        "id": "5368b176"
      },
      "source": [
        "<details><summary>Click here for the solution</summary>\n",
        "\n",
        "```python\n",
        "print(\"Columns in data1:\", data1.columns)\n",
        "print(\"Columns in data2:\", data2.columns)\n",
        "print(\"Columns in data3:\", data3.columns)\n",
        "```\n",
        "\n",
        "</details>"
      ]
    },
    {
      "cell_type": "markdown",
      "id": "34eb1533",
      "metadata": {
        "id": "34eb1533"
      },
      "source": [
        "### Step 4. Data Preprocessing\n",
        "   Extract opcode sequences and encode them into numerical values using `LabelEncoder`."
      ]
    },
    {
      "cell_type": "code",
      "execution_count": 5,
      "id": "e67fa7cc",
      "metadata": {
        "colab": {
          "base_uri": "https://localhost:8080/"
        },
        "id": "e67fa7cc",
        "outputId": "84c3d8c0-72d5-4c6d-fc71-1825aa0e1a58"
      },
      "outputs": [
        {
          "output_type": "stream",
          "name": "stdout",
          "text": [
            "Encoded Opcode Sequences Sample: [array([236]), array([0]), array([8])]\n"
          ]
        }
      ],
      "source": [
        "# Extract opcode sequences from each dataset\n",
        "opcode_sequences1 = data1['Opcode'].astype(str)\n",
        "opcode_sequences2 = data2['Opcode'].astype(str)\n",
        "opcode_sequences3 = data3['Opcode'].astype(str)\n",
        "\n",
        "# Convert each sequence into a list of opcodes\n",
        "opcode_sequences1 = [sequence.split() for sequence in opcode_sequences1]\n",
        "opcode_sequences2 = [sequence.split() for sequence in opcode_sequences2]\n",
        "opcode_sequences3 = [sequence.split() for sequence in opcode_sequences3]\n",
        "\n",
        "# Combine all opcode sequences into one list\n",
        "# Write your code here!\n",
        "combined_opcode_sequences = opcode_sequences1 + opcode_sequences2 + opcode_sequences3\n",
        "\n",
        "# Create a LabelEncoder to encode the opcodes\n",
        "# Write your code here!\n",
        "label_encoder = LabelEncoder()\n",
        "\n",
        "# Flatten the list of lists to create a single list of all opcodes\n",
        "# Write your code here!\n",
        "all_opcodes = [opcode for sequence in combined_opcode_sequences for opcode in sequence]\n",
        "label_encoder.fit(all_opcodes)\n",
        "\n",
        "# Encode each sequence using the label encoder\n",
        "# Write your code here!\n",
        "encoded_opcode_sequences = [label_encoder.transform(sequence) for sequence in combined_opcode_sequences]\n",
        "\n",
        "# Display a sample of the encoded sequences\n",
        "print(\"Encoded Opcode Sequences Sample:\", encoded_opcode_sequences[:3])"
      ]
    },
    {
      "cell_type": "markdown",
      "id": "0bca7569",
      "metadata": {
        "id": "0bca7569"
      },
      "source": [
        "<details><summary>Click here for the solution</summary>\n",
        "\n",
        "```python\n",
        "# Combine all opcode sequences into one list\n",
        "combined_opcode_sequences = opcode_sequences1 + opcode_sequences2 + opcode_sequences3\n",
        "\n",
        "# Create a LabelEncoder to encode the opcodes\n",
        "label_encoder = LabelEncoder()\n",
        "\n",
        "# Flatten the list of lists to create a single list of all opcodes\n",
        "all_opcodes = [opcode for sequence in combined_opcode_sequences for opcode in sequence]\n",
        "label_encoder.fit(all_opcodes)\n",
        "\n",
        "# Encode each sequence using the label encoder\n",
        "encoded_opcode_sequences = [label_encoder.transform(sequence) for sequence in combined_opcode_sequences]\n",
        "\n",
        "\n",
        "```\n",
        "\n",
        "</details>"
      ]
    },
    {
      "cell_type": "markdown",
      "id": "a87a29a7",
      "metadata": {
        "id": "a87a29a7"
      },
      "source": [
        "#### Explanation:\n",
        "\n",
        "This code extracts opcode sequences from multiple datasets and converts each sequence into a list of individual opcodes. It then combines all sequences into one list and uses a LabelEncoder to convert the opcodes into numerical values for machine learning. Finally, it encodes each sequence into its numeric form, displaying a sample of the encoded sequences for verification."
      ]
    },
    {
      "cell_type": "markdown",
      "id": "6ee32af1",
      "metadata": {
        "id": "6ee32af1"
      },
      "source": [
        "### Step 5. Concatenating Sequences and Defining Sequence Lengths\n",
        "   Concatenate the encoded sequences and define the lengths of each sequence."
      ]
    },
    {
      "cell_type": "code",
      "execution_count": 6,
      "id": "8d1d7499",
      "metadata": {
        "colab": {
          "base_uri": "https://localhost:8080/"
        },
        "id": "8d1d7499",
        "outputId": "c0cb86f6-0e29-435f-9fde-067d26745272"
      },
      "outputs": [
        {
          "output_type": "stream",
          "name": "stdout",
          "text": [
            "Concatenated Sequences: [236   0   8   8 246 258   9 142 138 143 298 258 262   5 243   5 247 244\n",
            " 237  12]\n",
            "Sequence Lengths: [1, 1, 1, 1, 1, 1, 1, 1, 1, 1]\n"
          ]
        }
      ],
      "source": [
        "# Concatenate all encoded sequences into a single array\n",
        "concatenated_sequences = np.concatenate(encoded_opcode_sequences)\n",
        "\n",
        "# Store the lengths of each sequence\n",
        "sequence_lengths = [len(sequence) for sequence in encoded_opcode_sequences]\n",
        "\n",
        "# Display concatenated sequences and their lengths\n",
        "# Write your code here!\n",
        "print(\"Concatenated Sequences:\", concatenated_sequences[:20])\n",
        "print(\"Sequence Lengths:\", sequence_lengths[:10])"
      ]
    },
    {
      "cell_type": "markdown",
      "id": "8ce4154c",
      "metadata": {
        "id": "8ce4154c"
      },
      "source": [
        "<details><summary>Click here for the solution</summary>\n",
        "\n",
        "```python\n",
        "# Display concatenated sequences and their lengths\n",
        "print(\"Concatenated Sequences:\", concatenated_sequences[:20])\n",
        "print(\"Sequence Lengths:\", sequence_lengths[:10])\n",
        "\n",
        "```\n",
        "\n",
        "</details>"
      ]
    },
    {
      "cell_type": "markdown",
      "id": "e015fc5a",
      "metadata": {
        "id": "e015fc5a"
      },
      "source": [
        "#### Explanation:\n",
        "\n",
        "This code concatenates all encoded opcode sequences into a single NumPy array for easier manipulation during model training. It also calculates the length of each original sequence, storing these lengths in a list to help the Hidden Markov Model (HMM) understand the structure of the data. Finally, it prints a sample of the concatenated sequences and the lengths of the first ten sequences for verification and debugging purposes."
      ]
    },
    {
      "cell_type": "markdown",
      "id": "ad759e99",
      "metadata": {
        "id": "ad759e99"
      },
      "source": [
        "### Step 6. Building the HMM Model\n",
        "   Define and initialize the HMM model. Ensure the transition matrix and start probabilities are set correctly."
      ]
    },
    {
      "cell_type": "code",
      "execution_count": 7,
      "id": "712b49fc",
      "metadata": {
        "colab": {
          "base_uri": "https://localhost:8080/"
        },
        "id": "712b49fc",
        "outputId": "16751a6d-e63b-46da-d78d-3df41fbef6a2"
      },
      "outputs": [
        {
          "output_type": "stream",
          "name": "stderr",
          "text": [
            "WARNING:hmmlearn.hmm:MultinomialHMM has undergone major changes. The previous version was implementing a CategoricalHMM (a special case of MultinomialHMM). This new implementation follows the standard definition for a Multinomial distribution (e.g. as in https://en.wikipedia.org/wiki/Multinomial_distribution). See these issues for details:\n",
            "https://github.com/hmmlearn/hmmlearn/issues/335\n",
            "https://github.com/hmmlearn/hmmlearn/issues/340\n"
          ]
        }
      ],
      "source": [
        "# Define number of hidden states for HMM (e.g., 2 for malware and legit)\n",
        "n_components = 2\n",
        "\n",
        "# Initialize HMM with specified parameters\n",
        "# Write your code here!\n",
        "model = hmm.MultinomialHMM(n_components=n_components, n_iter=100, random_state=42)\n",
        "\n",
        "# Set initial start probabilities and transition matrix\n",
        "model.startprob_ = np.array([0.5, 0.5])  # Equal probability for both states initially\n",
        "model.transmat_ = np.array([\n",
        "    [0.7, 0.3],  # Transition probabilities from state 0\n",
        "    [0.3, 0.7]   # Transition probabilities from state 1\n",
        "])"
      ]
    },
    {
      "cell_type": "markdown",
      "id": "dab772ec",
      "metadata": {
        "id": "dab772ec"
      },
      "source": [
        "> **Note**: The warnings regarding the changes in MultinomialHMM reflect updates to the library's implementation. you can safely ignore these warnings, as the code will function correctly despite them."
      ]
    },
    {
      "cell_type": "markdown",
      "id": "6aa37bac",
      "metadata": {
        "id": "6aa37bac"
      },
      "source": [
        "<details><summary>Click here for the solution</summary>\n",
        "\n",
        "```python\n",
        "# Initialize HMM with specified parameters\n",
        "model = hmm.MultinomialHMM(n_components=n_components, n_iter=100, random_state=42)\n",
        "\n",
        "```\n",
        "\n",
        "</details>"
      ]
    },
    {
      "cell_type": "markdown",
      "id": "c96e004f",
      "metadata": {
        "id": "c96e004f"
      },
      "source": [
        "#### Explanation:\n",
        "\n",
        "This code initializes a Hidden Markov Model (HMM) with two hidden states, which represent different classifications (e.g., malware and legit). The model is configured to iterate 100 times during training for optimal parameter fitting. Initial start probabilities are set to equal values, indicating an equal likelihood of starting in either state, while the transition matrix defines the probabilities of moving from one state to another, providing a foundational structure for the HMM to learn from the data."
      ]
    },
    {
      "cell_type": "markdown",
      "id": "bf1ddf39",
      "metadata": {
        "id": "bf1ddf39"
      },
      "source": [
        "### Step 7. Training the HMM Model\n",
        "   Train the HMM on the concatenated sequences and sequence lengths. Check and fix the transition matrix if needed."
      ]
    },
    {
      "cell_type": "code",
      "execution_count": 8,
      "id": "d1280900",
      "metadata": {
        "colab": {
          "base_uri": "https://localhost:8080/"
        },
        "id": "d1280900",
        "outputId": "298d099f-6ed6-47ab-a5e4-efe169caaad2"
      },
      "outputs": [
        {
          "output_type": "stream",
          "name": "stderr",
          "text": [
            "WARNING:hmmlearn.base:Even though the 'startprob_' attribute is set, it will be overwritten during initialization because 'init_params' contains 's'\n",
            "WARNING:hmmlearn.base:Even though the 'transmat_' attribute is set, it will be overwritten during initialization because 'init_params' contains 't'\n",
            "WARNING:hmmlearn.base:Some rows of transmat_ have zero sum because no transition from the state was ever observed.\n"
          ]
        }
      ],
      "source": [
        "# Train HMM model on encoded opcode sequences\n",
        "model.fit(concatenated_sequences.reshape(-1, 1), sequence_lengths)\n",
        "\n",
        "# Reinitialize transmat_ for rows that sum to zero\n",
        "def reinitialize_transmat(transmat, epsilon=1e-5):\n",
        "    for i in range(transmat.shape[0]):\n",
        "        if transmat[i].sum() == 0:\n",
        "            transmat[i] = np.full(transmat.shape[1], 1.0 / transmat.shape[1])\n",
        "    return transmat\n",
        "\n",
        "# Apply smoothing and reinitialize zero-sum rows in transmat_\n",
        "# Write your code here!\n",
        "model.transmat_ = reinitialize_transmat(model.transmat_)\n"
      ]
    },
    {
      "cell_type": "markdown",
      "id": "aefa4319",
      "metadata": {
        "id": "aefa4319"
      },
      "source": [
        "> **Note**: The warnings about startprob_ and transmat_ being overwritten are expected due to the initialization process in MultinomialHMM. Additionally, zero-sum rows in transmat_ indicate that no transitions were observed for those states, which is a common occurrence in HMMs and does not affect the model's functionality."
      ]
    },
    {
      "cell_type": "markdown",
      "id": "d4350b3b",
      "metadata": {
        "id": "d4350b3b"
      },
      "source": [
        "<details><summary>Click here for the solution</summary>\n",
        "\n",
        "```python\n",
        "# Apply smoothing and reinitialize zero-sum rows in transmat_\n",
        "model.transmat_ = reinitialize_transmat(model.transmat_)\n",
        "\n",
        "```\n",
        "\n",
        "</details>"
      ]
    },
    {
      "cell_type": "markdown",
      "id": "2cfad31e",
      "metadata": {
        "id": "2cfad31e"
      },
      "source": [
        "#### Explanation:\n",
        "\n",
        "This code trains the Hidden Markov Model (HMM) using the encoded opcode sequences, reshaping the data to fit the model's input requirements and providing sequence lengths to guide the learning process. After training, a function is defined to reinitialize any rows in the transition matrix (`transmat_`) that sum to zero, ensuring that the model remains valid for future predictions. This function fills such rows with equal probabilities, preventing issues in the model's state transitions, and the reinitialized transition matrix is then updated in the model."
      ]
    },
    {
      "cell_type": "markdown",
      "id": "4ec547a9",
      "metadata": {
        "id": "4ec547a9"
      },
      "source": [
        "### Step 8. Validating the Model\n",
        "   Validate the model’s `startprob_` and `transmat_` to ensure they are correctly set."
      ]
    },
    {
      "cell_type": "code",
      "execution_count": 9,
      "id": "b13c807e",
      "metadata": {
        "colab": {
          "base_uri": "https://localhost:8080/"
        },
        "id": "b13c807e",
        "outputId": "91cc9cbd-85cb-48b5-d532-5ea3da97250e"
      },
      "outputs": [
        {
          "output_type": "stream",
          "name": "stdout",
          "text": [
            "Transition matrix is valid.\n"
          ]
        }
      ],
      "source": [
        "# Check and reinitialize startprob_ if it contains NaN\n",
        "if np.isnan(model.startprob_).any():\n",
        "    model.startprob_ = np.full(n_components, 1.0 / n_components)\n",
        "\n",
        "# Verify startprob_ sums to 1\n",
        "if not np.isclose(model.startprob_.sum(), 1.0):\n",
        "    raise ValueError(f\"Error: startprob_ must sum to 1 (got {model.startprob_.sum()})\")\n",
        "\n",
        "# Check if the transition matrix is valid\n",
        "def check_transmat(model):\n",
        "    try:\n",
        "        model._check()\n",
        "        print(\"Transition matrix is valid.\")\n",
        "    except ValueError as e:\n",
        "        print(f\"Error: {e}\")\n",
        "\n",
        "# After training the model\n",
        "# Write your code here!\n",
        "check_transmat(model)\n"
      ]
    },
    {
      "cell_type": "markdown",
      "id": "f7eba111",
      "metadata": {
        "id": "f7eba111"
      },
      "source": [
        "<details><summary>Click here for the solution</summary>\n",
        "\n",
        "```python\n",
        "# After training the model\n",
        "check_transmat(model)\n",
        "\n",
        "```\n",
        "\n",
        "</details>"
      ]
    },
    {
      "cell_type": "markdown",
      "id": "e98398b9",
      "metadata": {
        "id": "e98398b9"
      },
      "source": [
        "#### Explanation:\n",
        "\n",
        "This code snippet ensures the integrity of the model's initial state probabilities (`startprob_`) by checking for any NaN values. If found, it reinitializes them to equal probabilities, ensuring a valid starting point for the HMM. It then verifies that the sum of the initial probabilities equals 1, raising an error if it does not. Lastly, a function is defined to check the validity of the transition matrix (`transmat_`) after model training, confirming that the model parameters are correctly set up for subsequent predictions."
      ]
    },
    {
      "cell_type": "markdown",
      "id": "63d2b06c",
      "metadata": {
        "id": "63d2b06c"
      },
      "source": [
        "### Step 9. Classifying New Opcode Sequences\n",
        "   Define a function to classify new sequences as malware or legitimate based on the trained model."
      ]
    },
    {
      "cell_type": "code",
      "execution_count": 10,
      "id": "abe266b6",
      "metadata": {
        "colab": {
          "base_uri": "https://localhost:8080/"
        },
        "id": "abe266b6",
        "outputId": "f84e1cad-cb82-4771-ee65-0c73272526b0"
      },
      "outputs": [
        {
          "output_type": "stream",
          "name": "stdout",
          "text": [
            "\n",
            "Prediction for new sequence: Legit\n"
          ]
        }
      ],
      "source": [
        "def classify_opcode_sequence(opcode_sequence, trained_model, label_encoder):\n",
        "    try:\n",
        "        # Encode the sequence using the same label encoder\n",
        "        encoded_sequence = label_encoder.transform(opcode_sequence)\n",
        "\n",
        "        # Reshape to match the model input\n",
        "        reshaped_sequence = np.array(encoded_sequence).reshape(-1, 1)\n",
        "\n",
        "        # Compute the log likelihood for this sequence\n",
        "        log_likelihood = trained_model.score(reshaped_sequence)\n",
        "\n",
        "        # Based on log likelihood, classify as malware or legit\n",
        "        if log_likelihood < -50:  # Adjust threshold based on your model's performance\n",
        "            return \"Malware\"\n",
        "        else:\n",
        "            return \"Legit\"\n",
        "    except Exception as e:\n",
        "        return f\"Error: {str(e)}\"\n",
        "\n",
        "# Example usage\n",
        "# Write your code here!\n",
        "new_opcode_sequence = [\"mov\", \"add\", \"jmp\", \"push\"]  # Example sequence\n",
        "prediction = classify_opcode_sequence(new_opcode_sequence, model, label_encoder)\n",
        "print(f\"\\nPrediction for new sequence: {prediction}\")\n"
      ]
    },
    {
      "cell_type": "markdown",
      "id": "6bf04712",
      "metadata": {
        "id": "6bf04712"
      },
      "source": [
        "<details><summary>Click here for the solution</summary>\n",
        "\n",
        "```python\n",
        "# Example usage\n",
        "new_opcode_sequence = [\"mov\", \"add\", \"jmp\", \"push\"]  # Example sequence\n",
        "prediction = classify_opcode_sequence(new_opcode_sequence, model, label_encoder)\n",
        "print(f\"\\nPrediction for new sequence: {prediction}\")\n",
        "\n",
        "```\n",
        "\n",
        "</details>"
      ]
    },
    {
      "cell_type": "markdown",
      "id": "d2bdb7aa",
      "metadata": {
        "id": "d2bdb7aa"
      },
      "source": [
        "#### Explanation:\n",
        "\n",
        "This code defines a function to classify a given sequence of opcodes (instructions) as either \"Malware\" or \"Legit\" based on a trained Hidden Markov Model (HMM). It first encodes the input opcode sequence using the same `LabelEncoder` that was used during training, then reshapes the encoded data to fit the model's expected input format. The function calculates the log likelihood of the sequence using the trained model, which measures how likely the sequence is under the learned model parameters. If the log likelihood is below a specified threshold (in this case, -50), the sequence is classified as \"Malware\"; otherwise, it is classified as \"Legit.\" The example usage demonstrates this classification process on a sample opcode sequence, printing the result.\n",
        "\n",
        "In this instance, if the output is \"Legit,\" it indicates that the model determined the provided opcode sequence does not resemble those typical of metamorphic malware, suggesting it is from a legitimate application."
      ]
    },
    {
      "cell_type": "markdown",
      "id": "dfb6417e",
      "metadata": {
        "id": "dfb6417e"
      },
      "source": [
        "### Summary:\n",
        "In this lab, you learned to build and train an HMM for detecting metamorphic malware based on opcode sequences. You implemented preprocessing, model training, and classification with a focus on handling common issues like invalid transition matrices."
      ]
    }
  ],
  "metadata": {
    "kernelspec": {
      "display_name": "Python 3 (ipykernel)",
      "language": "python",
      "name": "python3"
    },
    "language_info": {
      "codemirror_mode": {
        "name": "ipython",
        "version": 3
      },
      "file_extension": ".py",
      "mimetype": "text/x-python",
      "name": "python",
      "nbconvert_exporter": "python",
      "pygments_lexer": "ipython3",
      "version": "3.11.0rc1"
    },
    "colab": {
      "provenance": []
    }
  },
  "nbformat": 4,
  "nbformat_minor": 5
}