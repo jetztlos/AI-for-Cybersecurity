{
  "cells": [
    {
      "cell_type": "markdown",
      "id": "f1cdc4fd",
      "metadata": {
        "id": "f1cdc4fd"
      },
      "source": [
        "<p align=\"center\">\n",
        "    <img src=\"JHU.png\" width=\"200\" alt=\"Johns Hopkins University logo\">\n",
        "</p>"
      ]
    },
    {
      "cell_type": "markdown",
      "id": "8c5da4aa",
      "metadata": {
        "id": "8c5da4aa"
      },
      "source": [
        "# Hands-on Lab: Detecting IoT Malware Behavior in Network Traffic\n",
        "\n",
        "Estimated time needed: **60** minutes\n",
        "\n",
        "### Lab Overview:\n",
        "\n",
        "In this lab, you will explore the behavior of IoT devices under various conditions using the `CTU-IoT-Malware-Capture-1` dataset. The dataset contains network traffic data and will be used to train both Machine Learning (ML) and Deep Learning (DL) models to detect malicious behavior.\n",
        "\n",
        "### Problem Statement:\n",
        "\n",
        "With the increasing prevalence of IoT devices, ensuring their security is crucial. This lab aims to analyze network traffic data to detect potential botnet behavior and malicious activities. By utilizing machine learning and deep learning techniques, you will classify the traffic and identify potential threats.\n",
        "\n",
        "### Lab Objectives:\n",
        "\n",
        "1. Preprocess the IoT network traffic dataset.\n",
        "2. Train a machine learning model to detect botnet behavior.\n",
        "3. Train a deep learning model to detect botnet behavior.\n",
        "4. Visualize the training history of the DL model.\n",
        "5. Compare the performance of both models and derive insights.\n",
        "\n",
        "### Lab Outline:\n",
        "\n",
        "1. **Step 1: Import Essential Libraries**\n",
        "2. **Step 2: Load and Preprocess the Dataset**\n",
        "3. **Step 3: Define Features and Target Variable**\n",
        "4. **Step 4: Data Scaling and Dimensionality Reduction**\n",
        "5. **Step 5: Train and Evaluate the ML Model (Random Forest)**\n",
        "6. **Step 6: Train and Evaluate the DL Model (Neural Network)**\n",
        "7. **Step 7: Visualize the Training History for the DL Model**\n",
        "8. **Step 8: Compare Model Performance**\n",
        "\n",
        "### Dataset Used:\n",
        "\n",
        "The dataset we are using is the `CTU-IoT-Malware-Capture-1` dataset, consisting of 1153 rows and 23 columns."
      ]
    },
    {
      "cell_type": "markdown",
      "id": "a2794ac2",
      "metadata": {
        "id": "a2794ac2"
      },
      "source": [
        "### Implementation:\n",
        "\n",
        "> **Note: The code execution may take some time to complete. Please be patient while waiting for the results.**"
      ]
    },
    {
      "cell_type": "markdown",
      "id": "b639ac70",
      "metadata": {
        "id": "b639ac70"
      },
      "source": [
        "#### Step 1: Import Essential Libraries\n",
        "\n",
        "> **Note: If you encounter warnings while installing or loading libraries, such as warnings related to dependencies, they do not affect the code execution or the results. These warnings indicate optional dependencies that might not be essential for this analysis. You can safely proceed with the lab.**"
      ]
    },
    {
      "cell_type": "code",
      "execution_count": 3,
      "id": "5b449944",
      "metadata": {
        "id": "5b449944"
      },
      "outputs": [],
      "source": [
        "# Import necessary libraries\n",
        "import warnings\n",
        "warnings.filterwarnings(\"ignore\")\n",
        "\n",
        "import pandas as pd\n",
        "import numpy as np\n",
        "import matplotlib.pyplot as plt\n",
        "import seaborn as sns\n",
        "from sklearn.model_selection import train_test_split\n",
        "from sklearn.preprocessing import StandardScaler\n",
        "from sklearn.ensemble import RandomForestClassifier\n",
        "from sklearn.metrics import classification_report, confusion_matrix\n",
        "from sklearn.decomposition import PCA\n",
        "from tensorflow.keras.models import Sequential\n",
        "from tensorflow.keras.layers import Dense"
      ]
    },
    {
      "cell_type": "markdown",
      "id": "0c01edd8",
      "metadata": {
        "id": "0c01edd8"
      },
      "source": [
        "#### Step 2: Load and Preprocess the Dataset"
      ]
    },
    {
      "cell_type": "code",
      "source": [
        "# from google.colab import drive\n",
        "# drive.mount('/content/drive')"
      ],
      "metadata": {
        "id": "zNznai3gZ_Ns"
      },
      "id": "zNznai3gZ_Ns",
      "execution_count": 4,
      "outputs": []
    },
    {
      "cell_type": "code",
      "execution_count": 5,
      "id": "67459703",
      "metadata": {
        "colab": {
          "base_uri": "https://localhost:8080/"
        },
        "id": "67459703",
        "outputId": "886c2ef2-9d04-4478-bc04-170de6137ad4"
      },
      "outputs": [
        {
          "output_type": "stream",
          "name": "stdout",
          "text": [
            "           ts                 uid        id.orig_h  id.orig_p      id.resp_h  \\\n",
            "0  1538478770  CSQG794riQ4XnzTxP2  192.168.100.103      37082  192.168.100.1   \n",
            "1  1538478780   COTbdG2BhtGBlmf6r  192.168.100.103      34486  192.168.100.1   \n",
            "2  1538478790  CP48WJ2HOnLuGtr5kb  192.168.100.103      37601  192.168.100.1   \n",
            "3  1538478780  CeTMJi2TydRSaVdsG4  192.168.100.103      46439  192.168.100.1   \n",
            "4  1538478800  CZ6ne24AN9WAg9XA9d  192.168.100.103      55174  192.168.100.1   \n",
            "\n",
            "   id.resp_p proto service  duration  orig_bytes  ...  local_resp  \\\n",
            "0         53   udp     dns  5.005151          78  ...           -   \n",
            "1         53   udp     dns  0.007243          90  ...           -   \n",
            "2         53   udp     dns  0.002250          90  ...           -   \n",
            "3         53   udp     dns  5.005154          78  ...           -   \n",
            "4         53   udp     dns  0.002246          90  ...           -   \n",
            "\n",
            "  missed_bytes history orig_pkts  orig_ip_bytes resp_pkts  resp_ip_bytes  \\\n",
            "0            0       D         2            134         0              0   \n",
            "1            0      Dd         2            146         2            146   \n",
            "2            0      Dd         2            146         2            146   \n",
            "3            0       D         2            134         0              0   \n",
            "4            0      Dd         2            146         2            146   \n",
            "\n",
            "   tunnel_parents   label  detailed-label  \n",
            "0               -  Benign               -  \n",
            "1               -  Benign               -  \n",
            "2               -  Benign               -  \n",
            "3               -  Benign               -  \n",
            "4               -  Benign               -  \n",
            "\n",
            "[5 rows x 23 columns]\n",
            "ts                0\n",
            "uid               0\n",
            "id.orig_h         0\n",
            "id.orig_p         0\n",
            "id.resp_h         0\n",
            "id.resp_p         0\n",
            "proto             0\n",
            "service           0\n",
            "duration          0\n",
            "orig_bytes        0\n",
            "resp_bytes        0\n",
            "conn_state        0\n",
            "local_orig        0\n",
            "local_resp        0\n",
            "missed_bytes      0\n",
            "history           0\n",
            "orig_pkts         0\n",
            "orig_ip_bytes     0\n",
            "resp_pkts         0\n",
            "resp_ip_bytes     0\n",
            "tunnel_parents    0\n",
            "label             0\n",
            "detailed-label    0\n",
            "dtype: int64\n"
          ]
        }
      ],
      "source": [
        "# Load the dataset\n",
        "data = pd.read_csv('CTU-IoT-Malware-Capture-1.csv')\n",
        "\n",
        "# Display the first few rows of the dataset\n",
        "# Write your code here!\n",
        "print(data.head())\n",
        "\n",
        "# Check for missing values\n",
        "# Write your code here!\n",
        "print(data.isnull().sum())"
      ]
    },
    {
      "cell_type": "markdown",
      "id": "56861ea8",
      "metadata": {
        "id": "56861ea8"
      },
      "source": [
        "<details>\n",
        "    <summary>Click here to view/hide the solution.</summary>\n",
        "    \n",
        "```python\n",
        "\n",
        "# Display the first few rows of the dataset\n",
        "print(data.head())\n",
        "\n",
        "# Check for missing values\n",
        "print(data.isnull().sum())\n",
        "\n",
        "```\n",
        "</details>"
      ]
    },
    {
      "cell_type": "markdown",
      "id": "808f0f8e",
      "metadata": {
        "id": "808f0f8e"
      },
      "source": [
        "#### Step 3: Define Features and Target Variable"
      ]
    },
    {
      "cell_type": "code",
      "execution_count": 6,
      "id": "c49f80a3",
      "metadata": {
        "colab": {
          "base_uri": "https://localhost:8080/"
        },
        "id": "c49f80a3",
        "outputId": "9aa5eb37-4824-4bd6-c81b-e061a9b62849"
      },
      "outputs": [
        {
          "output_type": "stream",
          "name": "stdout",
          "text": [
            "Columns in the dataset: Index(['ts', 'uid', 'id.orig_h', 'id.orig_p', 'id.resp_h', 'id.resp_p',\n",
            "       'proto', 'service', 'duration', 'orig_bytes', 'resp_bytes',\n",
            "       'conn_state', 'local_orig', 'local_resp', 'missed_bytes', 'history',\n",
            "       'orig_pkts', 'orig_ip_bytes', 'resp_pkts', 'resp_ip_bytes',\n",
            "       'tunnel_parents', 'label', 'detailed-label'],\n",
            "      dtype='object')\n",
            "Features shape: (153, 22), Target shape: (153,)\n"
          ]
        }
      ],
      "source": [
        "# Inspect the DataFrame columns to find the target variable\n",
        "print(\"Columns in the dataset:\", data.columns)\n",
        "\n",
        "# Set the features (X) and target variable (y)\n",
        "# Write your code here!\n",
        "X = data.drop(columns=['label'])  # Replace 'label' with the actual target column name\n",
        "y = data['label']  # Ensure this is the correct target column\n",
        "\n",
        "# Split the dataset into training and testing sets\n",
        "# Write your code here!\n",
        "from sklearn.model_selection import train_test_split\n",
        "X_train, X_test, y_train, y_test = train_test_split(X, y, test_size=0.2, random_state=42)\n",
        "\n",
        "# Output the shapes of the features and target\n",
        "print(f\"Features shape: {X.shape}, Target shape: {y.shape}\")"
      ]
    },
    {
      "cell_type": "markdown",
      "id": "9c838c7b",
      "metadata": {
        "id": "9c838c7b"
      },
      "source": [
        "<details>\n",
        "    <summary>Click here to view/hide the solution.</summary>\n",
        "    \n",
        "```python\n",
        "    \n",
        "# Set the features (X) and target variable (y)\n",
        "X = data.drop(columns=['label'])  # Replace 'label' with the actual target column name\n",
        "y = data['label']  # Ensure this is the correct target column\n",
        "\n",
        "# Split the dataset into training and testing sets\n",
        "from sklearn.model_selection import train_test_split\n",
        "X_train, X_test, y_train, y_test = train_test_split(X, y, test_size=0.2, random_state=42)\n",
        "    \n",
        "```\n",
        "</details>"
      ]
    },
    {
      "cell_type": "markdown",
      "id": "3a45f085",
      "metadata": {
        "id": "3a45f085"
      },
      "source": [
        "#### Step 4: Data Scaling and Dimensionality Reduction"
      ]
    },
    {
      "cell_type": "code",
      "execution_count": 7,
      "id": "582ac128",
      "metadata": {
        "colab": {
          "base_uri": "https://localhost:8080/"
        },
        "id": "582ac128",
        "outputId": "6860471e-d958-4128-f9cc-33da95505abb"
      },
      "outputs": [
        {
          "output_type": "stream",
          "name": "stdout",
          "text": [
            "Transformed training features shape: (122, 8)\n",
            "Transformed testing features shape: (31, 8)\n"
          ]
        }
      ],
      "source": [
        "from sklearn.preprocessing import StandardScaler, OneHotEncoder\n",
        "from sklearn.compose import ColumnTransformer\n",
        "from sklearn.pipeline import Pipeline\n",
        "from sklearn.decomposition import PCA\n",
        "\n",
        "# Identify categorical and numerical columns\n",
        "# Write your code here!\n",
        "categorical_cols = X.select_dtypes(include=['object']).columns.tolist()  # Get categorical column names\n",
        "numerical_cols = X.select_dtypes(exclude=['object']).columns.tolist()    # Get numerical column names\n",
        "\n",
        "# Create a column transformer to apply scaling and one-hot encoding\n",
        "# Write your code here!\n",
        "preprocessor = ColumnTransformer(\n",
        "    transformers=[\n",
        "        ('num', StandardScaler(), numerical_cols),  # Scale numerical features\n",
        "        ('cat', OneHotEncoder(handle_unknown='ignore'), categorical_cols)  # One-hot encode categorical features\n",
        "    ]\n",
        ")\n",
        "\n",
        "# Create a pipeline for preprocessing and PCA\n",
        "# Write your code here!\n",
        "pipeline = Pipeline(steps=[\n",
        "    ('preprocessor', preprocessor),  # Apply preprocessor\n",
        "    ('pca', PCA(n_components=0.95))  # Keep 95% of variance\n",
        "])\n",
        "\n",
        "# Fit and transform the training data, and transform the test data\n",
        "# Write your code here!\n",
        "X_train_transformed = pipeline.fit_transform(X_train)\n",
        "X_test_transformed = pipeline.transform(X_test)\n",
        "\n",
        "# Output the shapes of the transformed features\n",
        "print(f\"Transformed training features shape: {X_train_transformed.shape}\")\n",
        "print(f\"Transformed testing features shape: {X_test_transformed.shape}\")"
      ]
    },
    {
      "cell_type": "markdown",
      "id": "9bc09ec4",
      "metadata": {
        "id": "9bc09ec4"
      },
      "source": [
        "<details>\n",
        "    <summary>Click here to view/hide the solution.</summary>\n",
        "    \n",
        "```python\n",
        "    \n",
        "# Identify categorical and numerical columns\n",
        "categorical_cols = X.select_dtypes(include=['object']).columns.tolist()  # Get categorical column names\n",
        "numerical_cols = X.select_dtypes(exclude=['object']).columns.tolist()    # Get numerical column names\n",
        "\n",
        "# Create a column transformer to apply scaling and one-hot encoding\n",
        "preprocessor = ColumnTransformer(\n",
        "    transformers=[\n",
        "        ('num', StandardScaler(), numerical_cols),  # Scale numerical features\n",
        "        ('cat', OneHotEncoder(handle_unknown='ignore'), categorical_cols)  # One-hot encode categorical features\n",
        "    ]\n",
        ")\n",
        "\n",
        "# Create a pipeline for preprocessing and PCA\n",
        "pipeline = Pipeline(steps=[\n",
        "    ('preprocessor', preprocessor),  # Apply preprocessor\n",
        "    ('pca', PCA(n_components=0.95))  # Keep 95% of variance\n",
        "])\n",
        "\n",
        "# Fit and transform the training data, and transform the test data\n",
        "X_train_transformed = pipeline.fit_transform(X_train)\n",
        "X_test_transformed = pipeline.transform(X_test)\n",
        "    \n",
        "```\n",
        "</details>"
      ]
    },
    {
      "cell_type": "markdown",
      "id": "887dc585",
      "metadata": {
        "id": "887dc585"
      },
      "source": [
        "#### Step 5: Train and Evaluate the ML Model (Random Forest)"
      ]
    },
    {
      "cell_type": "code",
      "execution_count": 8,
      "id": "c8f43bec",
      "metadata": {
        "colab": {
          "base_uri": "https://localhost:8080/"
        },
        "id": "c8f43bec",
        "outputId": "1d0c0ad1-624d-4794-bd6f-d685cb036a0a"
      },
      "outputs": [
        {
          "output_type": "stream",
          "name": "stdout",
          "text": [
            "Random Forest Classification Report:\n",
            "              precision    recall  f1-score   support\n",
            "\n",
            "      Benign       1.00      1.00      1.00        31\n",
            "\n",
            "    accuracy                           1.00        31\n",
            "   macro avg       1.00      1.00      1.00        31\n",
            "weighted avg       1.00      1.00      1.00        31\n",
            "\n",
            "Confusion Matrix:\n",
            "[[31]]\n"
          ]
        }
      ],
      "source": [
        "# Initialize the Random Forest model\n",
        "# Write you code here!\n",
        "rf_model = RandomForestClassifier(random_state=42)\n",
        "\n",
        "# Train the model\n",
        "# Write you code here!\n",
        "rf_model.fit(X_train_transformed, y_train)\n",
        "\n",
        "# Make predictions\n",
        "# Write you code here!\n",
        "y_pred_rf = rf_model.predict(X_test_transformed)\n",
        "\n",
        "# Evaluate the model\n",
        "print(\"Random Forest Classification Report:\")\n",
        "print(classification_report(y_test, y_pred_rf))\n",
        "print(\"Confusion Matrix:\")\n",
        "print(confusion_matrix(y_test, y_pred_rf))"
      ]
    },
    {
      "cell_type": "markdown",
      "id": "41ad5ea7",
      "metadata": {
        "id": "41ad5ea7"
      },
      "source": [
        "<details>\n",
        "    <summary>Click here to view/hide the solution.</summary>\n",
        "    \n",
        "```python\n",
        "    \n",
        "# Initialize the Random Forest model\n",
        "rf_model = RandomForestClassifier(random_state=42)\n",
        "\n",
        "# Train the model\n",
        "rf_model.fit(X_train_transformed, y_train)\n",
        "\n",
        "# Make predictions\n",
        "y_pred_rf = rf_model.predict(X_test_transformed)\n",
        "\n",
        "```\n",
        "</details>"
      ]
    },
    {
      "cell_type": "markdown",
      "id": "4be470b9",
      "metadata": {
        "id": "4be470b9"
      },
      "source": [
        "#### Step 6: Train and Evaluate the DL Model (Neural Network)"
      ]
    },
    {
      "cell_type": "code",
      "execution_count": 9,
      "id": "c4ee2c32",
      "metadata": {
        "colab": {
          "base_uri": "https://localhost:8080/"
        },
        "id": "c4ee2c32",
        "outputId": "1077a0dd-4a04-4ee0-e460-8998abead573"
      },
      "outputs": [
        {
          "output_type": "stream",
          "name": "stdout",
          "text": [
            "Epoch 1/20\n",
            "\u001b[1m4/4\u001b[0m \u001b[32m━━━━━━━━━━━━━━━━━━━━\u001b[0m\u001b[37m\u001b[0m \u001b[1m3s\u001b[0m 325ms/step - accuracy: 0.0000e+00 - loss: 1.1002 - val_accuracy: 0.0000e+00 - val_loss: 0.9519\n",
            "Epoch 2/20\n",
            "\u001b[1m4/4\u001b[0m \u001b[32m━━━━━━━━━━━━━━━━━━━━\u001b[0m\u001b[37m\u001b[0m \u001b[1m0s\u001b[0m 10ms/step - accuracy: 0.0000e+00 - loss: 0.9190 - val_accuracy: 0.1200 - val_loss: 0.8305\n",
            "Epoch 3/20\n",
            "\u001b[1m4/4\u001b[0m \u001b[32m━━━━━━━━━━━━━━━━━━━━\u001b[0m\u001b[37m\u001b[0m \u001b[1m0s\u001b[0m 9ms/step - accuracy: 0.2208 - loss: 0.7900 - val_accuracy: 0.3600 - val_loss: 0.7288\n",
            "Epoch 4/20\n",
            "\u001b[1m4/4\u001b[0m \u001b[32m━━━━━━━━━━━━━━━━━━━━\u001b[0m\u001b[37m\u001b[0m \u001b[1m0s\u001b[0m 10ms/step - accuracy: 0.5237 - loss: 0.6829 - val_accuracy: 0.5600 - val_loss: 0.6412\n",
            "Epoch 5/20\n",
            "\u001b[1m4/4\u001b[0m \u001b[32m━━━━━━━━━━━━━━━━━━━━\u001b[0m\u001b[37m\u001b[0m \u001b[1m0s\u001b[0m 9ms/step - accuracy: 0.8256 - loss: 0.5947 - val_accuracy: 1.0000 - val_loss: 0.5627\n",
            "Epoch 6/20\n",
            "\u001b[1m4/4\u001b[0m \u001b[32m━━━━━━━━━━━━━━━━━━━━\u001b[0m\u001b[37m\u001b[0m \u001b[1m0s\u001b[0m 8ms/step - accuracy: 1.0000 - loss: 0.5084 - val_accuracy: 1.0000 - val_loss: 0.4944\n",
            "Epoch 7/20\n",
            "\u001b[1m4/4\u001b[0m \u001b[32m━━━━━━━━━━━━━━━━━━━━\u001b[0m\u001b[37m\u001b[0m \u001b[1m0s\u001b[0m 9ms/step - accuracy: 1.0000 - loss: 0.4413 - val_accuracy: 1.0000 - val_loss: 0.4358\n",
            "Epoch 8/20\n",
            "\u001b[1m4/4\u001b[0m \u001b[32m━━━━━━━━━━━━━━━━━━━━\u001b[0m\u001b[37m\u001b[0m \u001b[1m0s\u001b[0m 9ms/step - accuracy: 1.0000 - loss: 0.3886 - val_accuracy: 1.0000 - val_loss: 0.3821\n",
            "Epoch 9/20\n",
            "\u001b[1m4/4\u001b[0m \u001b[32m━━━━━━━━━━━━━━━━━━━━\u001b[0m\u001b[37m\u001b[0m \u001b[1m0s\u001b[0m 8ms/step - accuracy: 1.0000 - loss: 0.3382 - val_accuracy: 1.0000 - val_loss: 0.3346\n",
            "Epoch 10/20\n",
            "\u001b[1m4/4\u001b[0m \u001b[32m━━━━━━━━━━━━━━━━━━━━\u001b[0m\u001b[37m\u001b[0m \u001b[1m0s\u001b[0m 8ms/step - accuracy: 1.0000 - loss: 0.2911 - val_accuracy: 1.0000 - val_loss: 0.2925\n",
            "Epoch 11/20\n",
            "\u001b[1m4/4\u001b[0m \u001b[32m━━━━━━━━━━━━━━━━━━━━\u001b[0m\u001b[37m\u001b[0m \u001b[1m0s\u001b[0m 8ms/step - accuracy: 1.0000 - loss: 0.2518 - val_accuracy: 1.0000 - val_loss: 0.2534\n",
            "Epoch 12/20\n",
            "\u001b[1m4/4\u001b[0m \u001b[32m━━━━━━━━━━━━━━━━━━━━\u001b[0m\u001b[37m\u001b[0m \u001b[1m0s\u001b[0m 8ms/step - accuracy: 1.0000 - loss: 0.2195 - val_accuracy: 1.0000 - val_loss: 0.2180\n",
            "Epoch 13/20\n",
            "\u001b[1m4/4\u001b[0m \u001b[32m━━━━━━━━━━━━━━━━━━━━\u001b[0m\u001b[37m\u001b[0m \u001b[1m0s\u001b[0m 8ms/step - accuracy: 1.0000 - loss: 0.1828 - val_accuracy: 1.0000 - val_loss: 0.1873\n",
            "Epoch 14/20\n",
            "\u001b[1m4/4\u001b[0m \u001b[32m━━━━━━━━━━━━━━━━━━━━\u001b[0m\u001b[37m\u001b[0m \u001b[1m0s\u001b[0m 10ms/step - accuracy: 1.0000 - loss: 0.1586 - val_accuracy: 1.0000 - val_loss: 0.1603\n",
            "Epoch 15/20\n",
            "\u001b[1m4/4\u001b[0m \u001b[32m━━━━━━━━━━━━━━━━━━━━\u001b[0m\u001b[37m\u001b[0m \u001b[1m0s\u001b[0m 9ms/step - accuracy: 1.0000 - loss: 0.1344 - val_accuracy: 1.0000 - val_loss: 0.1376\n",
            "Epoch 16/20\n",
            "\u001b[1m4/4\u001b[0m \u001b[32m━━━━━━━━━━━━━━━━━━━━\u001b[0m\u001b[37m\u001b[0m \u001b[1m0s\u001b[0m 8ms/step - accuracy: 1.0000 - loss: 0.1152 - val_accuracy: 1.0000 - val_loss: 0.1183\n",
            "Epoch 17/20\n",
            "\u001b[1m4/4\u001b[0m \u001b[32m━━━━━━━━━━━━━━━━━━━━\u001b[0m\u001b[37m\u001b[0m \u001b[1m0s\u001b[0m 9ms/step - accuracy: 1.0000 - loss: 0.0985 - val_accuracy: 1.0000 - val_loss: 0.1012\n",
            "Epoch 18/20\n",
            "\u001b[1m4/4\u001b[0m \u001b[32m━━━━━━━━━━━━━━━━━━━━\u001b[0m\u001b[37m\u001b[0m \u001b[1m0s\u001b[0m 9ms/step - accuracy: 1.0000 - loss: 0.0858 - val_accuracy: 1.0000 - val_loss: 0.0868\n",
            "Epoch 19/20\n",
            "\u001b[1m4/4\u001b[0m \u001b[32m━━━━━━━━━━━━━━━━━━━━\u001b[0m\u001b[37m\u001b[0m \u001b[1m0s\u001b[0m 8ms/step - accuracy: 1.0000 - loss: 0.0709 - val_accuracy: 1.0000 - val_loss: 0.0746\n",
            "Epoch 20/20\n",
            "\u001b[1m4/4\u001b[0m \u001b[32m━━━━━━━━━━━━━━━━━━━━\u001b[0m\u001b[37m\u001b[0m \u001b[1m0s\u001b[0m 9ms/step - accuracy: 1.0000 - loss: 0.0635 - val_accuracy: 1.0000 - val_loss: 0.0643\n",
            "\u001b[1m1/1\u001b[0m \u001b[32m━━━━━━━━━━━━━━━━━━━━\u001b[0m\u001b[37m\u001b[0m \u001b[1m0s\u001b[0m 273ms/step\n",
            "['Benign' 'Benign' 'Benign' 'Benign' 'Benign' 'Benign' 'Benign' 'Benign'\n",
            " 'Benign' 'Benign' 'Benign' 'Benign' 'Benign' 'Benign' 'Benign' 'Benign'\n",
            " 'Benign' 'Benign' 'Benign' 'Benign' 'Benign' 'Benign' 'Benign' 'Benign'\n",
            " 'Benign' 'Benign' 'Benign' 'Benign' 'Benign' 'Benign' 'Benign']\n"
          ]
        }
      ],
      "source": [
        "from sklearn.preprocessing import LabelEncoder\n",
        "from tensorflow import keras\n",
        "from tensorflow.keras import layers\n",
        "\n",
        "# Assuming the target variable is in y_train and needs encoding\n",
        "# Step 1: Convert categorical labels to numerical values\n",
        "# Write your code here!\n",
        "label_encoder = LabelEncoder()\n",
        "y_train_encoded = label_encoder.fit_transform(y_train)  # Transform y_train to numerical values\n",
        "y_test_encoded = label_encoder.transform(y_test)  # Transform y_test\n",
        "\n",
        "# Step 2: Define the deep learning model\n",
        "# Write your code here!\n",
        "dl_model = keras.Sequential([\n",
        "    layers.Dense(64, activation='relu', input_shape=(X_train_transformed.shape[1],)),\n",
        "    layers.Dense(32, activation='relu'),\n",
        "    layers.Dense(1, activation='sigmoid')  # Use sigmoid for binary classification\n",
        "])\n",
        "\n",
        "# Compile the model\n",
        "# Write your code here!\n",
        "dl_model.compile(optimizer='adam', loss='binary_crossentropy', metrics=['accuracy'])\n",
        "\n",
        "# Step 3: Train the model\n",
        "# Write your code here!\n",
        "history = dl_model.fit(X_train_transformed, y_train_encoded, epochs=20, validation_split=0.2)\n",
        "\n",
        "# Make predictions\n",
        "# Write your code here!\n",
        "y_pred_dl = (dl_model.predict(X_test_transformed) > 0.5).astype(\"int32\")\n",
        "\n",
        "# If you want to decode predictions back to original labels\n",
        "# Write your code here!\n",
        "y_pred_labels = label_encoder.inverse_transform(y_pred_dl.flatten())\n",
        "\n",
        "# Check the predictions\n",
        "print(y_pred_labels)"
      ]
    },
    {
      "cell_type": "markdown",
      "id": "9eb9647f",
      "metadata": {
        "id": "9eb9647f"
      },
      "source": [
        "<details>\n",
        "    <summary>Click here to view/hide the solution.</summary>\n",
        "    \n",
        "```python\n",
        "    \n",
        "# Assuming the target variable is in y_train and needs encoding\n",
        "# Step 1: Convert categorical labels to numerical values\n",
        "label_encoder = LabelEncoder()\n",
        "y_train_encoded = label_encoder.fit_transform(y_train)  # Transform y_train to numerical values\n",
        "y_test_encoded = label_encoder.transform(y_test)  # Transform y_test\n",
        "\n",
        "# Step 2: Define the deep learning model\n",
        "dl_model = keras.Sequential([\n",
        "    layers.Dense(64, activation='relu', input_shape=(X_train_transformed.shape[1],)),\n",
        "    layers.Dense(32, activation='relu'),\n",
        "    layers.Dense(1, activation='sigmoid')  # Use sigmoid for binary classification\n",
        "])\n",
        "\n",
        "# Compile the model\n",
        "dl_model.compile(optimizer='adam', loss='binary_crossentropy', metrics=['accuracy'])\n",
        "\n",
        "# Step 3: Train the model\n",
        "history = dl_model.fit(X_train_transformed, y_train_encoded, epochs=20, validation_split=0.2)\n",
        "\n",
        "# Make predictions\n",
        "y_pred_dl = (dl_model.predict(X_test_transformed) > 0.5).astype(\"int32\")\n",
        "\n",
        "# If you want to decode predictions back to original labels\n",
        "y_pred_labels = label_encoder.inverse_transform(y_pred_dl.flatten())\n",
        "    \n",
        "```\n",
        "</details>"
      ]
    },
    {
      "cell_type": "markdown",
      "id": "c4b5cd79",
      "metadata": {
        "id": "c4b5cd79"
      },
      "source": [
        "#### Step 7: Visualize the Training History for the DL Model"
      ]
    },
    {
      "cell_type": "code",
      "execution_count": 10,
      "id": "7c7be5a4",
      "metadata": {
        "colab": {
          "base_uri": "https://localhost:8080/",
          "height": 927
        },
        "id": "7c7be5a4",
        "outputId": "4a6cc584-e48b-4b3c-da96-bd758808efbd"
      },
      "outputs": [
        {
          "output_type": "display_data",
          "data": {
            "text/plain": [
              "<Figure size 640x480 with 1 Axes>"
            ],
            "image/png": "[encoded data removed]"
          },
          "metadata": {}
        },
        {
          "output_type": "display_data",
          "data": {
            "text/plain": [
              "<Figure size 640x480 with 1 Axes>"
            ],
            "image/png": "[encoded data removed]"
          },
          "metadata": {}
        }
      ],
      "source": [
        "# Visualize the training history\n",
        "plt.plot(history.history['accuracy'], label='Train Accuracy')\n",
        "plt.plot(history.history['val_accuracy'], label='Validation Accuracy')\n",
        "plt.title('Model Accuracy')\n",
        "plt.ylabel('Accuracy')\n",
        "plt.xlabel('Epoch')\n",
        "plt.legend()\n",
        "plt.show()\n",
        "\n",
        "plt.plot(history.history['loss'], label='Train Loss')\n",
        "plt.plot(history.history['val_loss'], label='Validation Loss')\n",
        "plt.title('Model Loss')\n",
        "plt.ylabel('Loss')\n",
        "plt.xlabel('Epoch')\n",
        "plt.legend()\n",
        "plt.show()"
      ]
    },
    {
      "cell_type": "markdown",
      "id": "254656d9",
      "metadata": {
        "id": "254656d9"
      },
      "source": [
        "#### Step 8: Compare Model Performance"
      ]
    },
    {
      "cell_type": "code",
      "execution_count": 11,
      "id": "06fe7db4",
      "metadata": {
        "colab": {
          "base_uri": "https://localhost:8080/"
        },
        "id": "06fe7db4",
        "outputId": "20b91b3e-5544-4a03-c9ef-6bf7f1b9d09e"
      },
      "outputs": [
        {
          "output_type": "stream",
          "name": "stdout",
          "text": [
            "Random Forest Model Metrics:\n",
            "              precision    recall  f1-score   support\n",
            "\n",
            "           0       1.00      1.00      1.00        31\n",
            "\n",
            "    accuracy                           1.00        31\n",
            "   macro avg       1.00      1.00      1.00        31\n",
            "weighted avg       1.00      1.00      1.00        31\n",
            "\n",
            "Deep Learning Model Metrics:\n",
            "              precision    recall  f1-score   support\n",
            "\n",
            "      Benign       1.00      1.00      1.00        31\n",
            "\n",
            "    accuracy                           1.00        31\n",
            "   macro avg       1.00      1.00      1.00        31\n",
            "weighted avg       1.00      1.00      1.00        31\n",
            "\n"
          ]
        }
      ],
      "source": [
        "from sklearn.metrics import classification_report\n",
        "\n",
        "# Encode y_test before evaluation\n",
        "# Write your code here!\n",
        "y_test_encoded = label_encoder.transform(y_test)\n",
        "\n",
        "# Convert predictions from Random Forest to numerical labels\n",
        "# Write your code here!\n",
        "y_pred_rf_encoded = label_encoder.transform(y_pred_rf)\n",
        "\n",
        "print(\"Random Forest Model Metrics:\")\n",
        "print(classification_report(y_test_encoded, y_pred_rf_encoded))\n",
        "\n",
        "print(\"Deep Learning Model Metrics:\")\n",
        "\n",
        "# Convert Deep Learning model predictions to binary (0 or 1)\n",
        "# Write your code here!\n",
        "y_pred_dl_binary = (y_pred_dl.flatten() > 0.5).astype(int)\n",
        "\n",
        "# Map binary predictions back to original labels\n",
        "# Assuming the mapping is 0 -> 'Benign' and 1 -> 'Malicious'\n",
        "# Write your code here!\n",
        "y_pred_dl_labels = np.array(['Benign' if pred == 0 else 'Malicious' for pred in y_pred_dl_binary])\n",
        "\n",
        "print(classification_report(y_test, y_pred_dl_labels))"
      ]
    },
    {
      "cell_type": "markdown",
      "id": "7c1d59c7",
      "metadata": {
        "id": "7c1d59c7"
      },
      "source": [
        "<details>\n",
        "    <summary>Click here to view/hide the solution.</summary>\n",
        "    \n",
        "```python\n",
        "    \n",
        "# Encode y_test before evaluation\n",
        "y_test_encoded = label_encoder.transform(y_test)\n",
        "\n",
        "# Convert predictions from Random Forest to numerical labels\n",
        "y_pred_rf_encoded = label_encoder.transform(y_pred_rf)\n",
        "\n",
        "print(\"Random Forest Model Metrics:\")\n",
        "print(classification_report(y_test_encoded, y_pred_rf_encoded))\n",
        "\n",
        "print(\"Deep Learning Model Metrics:\")\n",
        "# Convert Deep Learning model predictions to binary (0 or 1)\n",
        "y_pred_dl_binary = (y_pred_dl.flatten() > 0.5).astype(int)\n",
        "\n",
        "# Map binary predictions back to original labels\n",
        "# Assuming the mapping is 0 -> 'Benign' and 1 -> 'Malicious'\n",
        "y_pred_dl_labels = np.array(['Benign' if pred == 0 else 'Malicious' for pred in y_pred_dl_binary])\n",
        "    \n",
        "```\n",
        "</details>"
      ]
    },
    {
      "cell_type": "markdown",
      "id": "aad7da1a",
      "metadata": {
        "id": "aad7da1a"
      },
      "source": [
        "### Note on Model Performance Metrics\n",
        "\n",
        "In this lab, both the Random Forest and Deep Learning models achieved perfect scores across all performance metrics, including precision, recall, f1-score, and overall accuracy. These results are certainly impressive, indicating that under the conditions of our lab setup, the models have perfectly classified all test cases.\n",
        "\n",
        "**Key Points from the Results:**\n",
        "- **Precision of 1.0:** Every instance predicted as positive by the model was truly positive.\n",
        "- **Recall of 1.0:** The model successfully identified all positive instances in the test set.\n",
        "- **F1-Score of 1.0:** Represents a perfect balance between precision and recall, indicating excellent model performance.\n",
        "- **Accuracy of 100%:** Every prediction made by the model was correct.\n",
        "\n",
        "**Interpreting These Results:**\n",
        "- Such high scores suggest that the models are well-tuned to the specific data and task in this controlled environment. This is a testament to the effectiveness of the algorithms when conditions are ideal.\n",
        "\n",
        "**Considerations and Cautions:**\n",
        "- **Overfitting:** While perfect scores are desirable, they may also indicate overfitting, particularly if the dataset is not diverse or large enough to challenge the model adequately.\n",
        "- **Real-World Application:** It's crucial to consider how these models might perform with real-world data, which can be more variable and unpredictable. Models that perform perfectly on test data might not necessarily generalize as well to unseen data.\n",
        "- **Dataset Characteristics:** The characteristics of the dataset used in training and testing play a significant role. A more complex or diverse dataset might yield different results, offering a more rigorous test of the models' capabilities.\n",
        "\n",
        "\n",
        "This exercise demonstrates the potential of machine learning models to achieve high accuracy and provides a foundation upon which we can build more complex and realistic scenarios. As we progress, keep these considerations in mind, and always question how model performance might translate to practical applications in the field."
      ]
    },
    {
      "cell_type": "markdown",
      "id": "ebd17774",
      "metadata": {
        "id": "ebd17774"
      },
      "source": [
        "### Key Takeaways:\n",
        "\n",
        "1. **Feature Engineering is Critical for Performance:**\n",
        "    - Carefully selecting and preprocessing features is essential to improving the performance of both machine learning and deep learning models. In this lab, scaling the data and using dimensionality reduction improved the model efficiency.\n",
        "    \n",
        "    \n",
        "2. **Random Forest as a Powerful ML Model:**\n",
        "    - The Random Forest algorithm is highly effective for classification tasks and achieved near-perfect performance in detecting IoT botnet activity. It works well even with smaller datasets and provides an intuitive way to understand feature importance.\n",
        "    \n",
        "    \n",
        "3. **Deep Learning for Complex Patterns:**\n",
        "    - The Neural Network model demonstrated the ability to capture complex patterns in data, particularly useful for detecting non-linear relationships. However, it requires more resources, hyperparameter tuning, and computational power compared to Random Forest.\n",
        "    \n",
        "    \n",
        "4. **Model Evaluation Using Metrics:**\n",
        "    - Classification metrics such as precision, recall, and F1-score provide crucial insights into model performance beyond accuracy. These metrics were used to compare the models, and each offered a unique perspective on false positives and false negatives.\n",
        "    \n",
        "    \n",
        "5. **Comparison Between ML and DL:**\n",
        "   - Both Random Forest and Neural Network models performed well on the botnet detection task. While Random Forest achieved high performance with less complexity, the deep learning model could potentially perform better with a larger dataset and further tuning."
      ]
    },
    {
      "cell_type": "markdown",
      "id": "d48494ad",
      "metadata": {
        "id": "d48494ad"
      },
      "source": [
        "### Lab Summary:\n",
        "\n",
        "In this lab, you built and evaluated two models Random Forest and a Neural Network to detect IoT botnet behavior in network traffic using the `CTU-IoT-Malware-Capture-1 dataset.` Through this lab, you gained hands-on experience in applying machine learning and deep learning algorithms to real-world IoT security problems, demonstrating how such techniques can effectively detect malicious behavior in network traffic. The lab provided insights into the trade-offs between complexity and performance when choosing between machine learning and deep learning models."
      ]
    }
  ],
  "metadata": {
    "kernelspec": {
      "display_name": "Python 3",
      "name": "python3"
    },
    "language_info": {
      "codemirror_mode": {
        "name": "ipython",
        "version": 3
      },
      "file_extension": ".py",
      "mimetype": "text/x-python",
      "name": "python",
      "nbconvert_exporter": "python",
      "pygments_lexer": "ipython3",
      "version": "3.10.6"
    },
    "colab": {
      "provenance": [],
      "gpuType": "T4"
    },
    "accelerator": "GPU"
  },
  "nbformat": 4,
  "nbformat_minor": 5
}